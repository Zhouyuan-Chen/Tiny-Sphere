{
 "cells": [
  {
   "cell_type": "code",
   "execution_count": 1,
   "id": "initial_id",
   "metadata": {
    "ExecuteTime": {
     "end_time": "2024-07-29T20:12:18.771644100Z",
     "start_time": "2024-07-29T20:12:18.753639100Z"
    }
   },
   "outputs": [],
   "source": [
    "import meshplot\n",
    "import scipy as sp\n",
    "import numpy as np\n",
    "import igl\n",
    "import meshplot as mp\n",
    "# import open3d as o3d"
   ]
  },
  {
   "cell_type": "code",
   "execution_count": 11,
   "id": "d0fcef8785eacb7f",
   "metadata": {
    "ExecuteTime": {
     "end_time": "2024-07-29T20:12:19.149399700Z",
     "start_time": "2024-07-29T20:12:19.127118200Z"
    },
    "collapsed": false
   },
   "outputs": [
    {
     "name": "stdout",
     "output_type": "stream",
     "text": [
      "Dimensions: 26, 34, 32\n",
      "Positions (first 5 entries):\n",
      "Position 0: [-0.713163 -0.934783 -0.868123]\n",
      "Position 1: [-0.658815 -0.934783 -0.868123]\n",
      "Position 2: [-0.604467 -0.934783 -0.868123]\n",
      "Position 3: [-0.550119 -0.934783 -0.868123]\n",
      "Position 4: [-0.495771 -0.934783 -0.868123]\n",
      "S values (first 5 entries):\n",
      "S[0] = 0.357732\n",
      "S[1] = 0.357728\n",
      "S[2] = 0.357721\n",
      "S[3] = 0.357709\n",
      "S[4] = 0.357695\n"
     ]
    },
    {
     "data": {
      "application/vnd.jupyter.widget-view+json": {
       "model_id": "e02ea466793d4b7ba4083839c7e47ce9",
       "version_major": 2,
       "version_minor": 0
      },
      "text/plain": [
       "Renderer(camera=PerspectiveCamera(children=(DirectionalLight(color='white', intensity=0.6, position=(-0.033814…"
      ]
     },
     "metadata": {},
     "output_type": "display_data"
    },
    {
     "data": {
      "text/plain": [
       "<meshplot.Viewer.Viewer at 0x1ac768488e0>"
      ]
     },
     "execution_count": 11,
     "metadata": {},
     "output_type": "execute_result"
    }
   ],
   "source": [
    "\n",
    "def read_matrix_from_file(filename):\n",
    "    with open(filename, 'r') as file:\n",
    "        # 读取第一行，获取 x, y, z\n",
    "        line = file.readline().strip()\n",
    "        x, y, z = map(int, line.split())\n",
    "\n",
    "        # 计算总元素数\n",
    "        total_elements = x * y * z\n",
    "\n",
    "        # 初始化列表\n",
    "        positions = np.zeros((total_elements, 3))  # x, y, z 坐标\n",
    "        s = np.zeros(total_elements)               # 标量数据\n",
    "\n",
    "        # 读取坐标数据\n",
    "        for i in range(total_elements):\n",
    "            positions[i] = list(map(float, file.readline().strip().split()))\n",
    "\n",
    "        # 读取标量数据\n",
    "        for i in range(total_elements):\n",
    "            s[i] = float(file.readline().strip())\n",
    "\n",
    "    return x, y, z, positions, s\n",
    "\n",
    "# 使用示例\n",
    "filename = '../data/SDF_file.txt'\n",
    "x, y, z, positions, s = read_matrix_from_file(filename)\n",
    "\n",
    "# 输出读取的数据（仅用于测试）\n",
    "print(f\"Dimensions: {x}, {y}, {z}\")\n",
    "\n",
    "print(\"Positions (first 5 entries):\")\n",
    "for i in range(min(5, len(positions))):\n",
    "    print(f\"Position {i}: {positions[i]}\")\n",
    "\n",
    "print(\"S values (first 5 entries):\")\n",
    "for i in range(min(5, len(s))):\n",
    "    print(f\"S[{i}] = {s[i]}\")\n",
    "\n",
    "color = s \n",
    "\n",
    "meshplot.plot(positions, c = color, shading={\"point_size\": 0.1, \"colormap\": \"tab10\"})"
   ]
  },
  {
   "cell_type": "code",
   "execution_count": 35,
   "id": "4e2ec8786b77778e",
   "metadata": {
    "ExecuteTime": {
     "end_time": "2024-07-29T20:12:19.707685300Z",
     "start_time": "2024-07-29T20:12:19.705236Z"
    },
    "collapsed": false
   },
   "outputs": [],
   "source": []
  },
  {
   "cell_type": "code",
   "execution_count": null,
   "id": "c151a9b89b493e47",
   "metadata": {
    "ExecuteTime": {
     "end_time": "2024-07-29T19:31:37.249364900Z",
     "start_time": "2024-07-29T19:31:37.092528100Z"
    },
    "collapsed": false
   },
   "outputs": [],
   "source": []
  },
  {
   "cell_type": "code",
   "execution_count": 14,
   "id": "951c756148a5f753",
   "metadata": {
    "ExecuteTime": {
     "end_time": "2024-07-29T19:31:37.269334500Z",
     "start_time": "2024-07-29T19:31:37.253365600Z"
    },
    "collapsed": false
   },
   "outputs": [],
   "source": []
  },
  {
   "cell_type": "code",
   "execution_count": null,
   "id": "f6da2f315197838e",
   "metadata": {
    "collapsed": false
   },
   "outputs": [],
   "source": []
  }
 ],
 "metadata": {
  "kernelspec": {
   "display_name": "Python 3 (ipykernel)",
   "language": "python",
   "name": "python3"
  },
  "language_info": {
   "codemirror_mode": {
    "name": "ipython",
    "version": 3
   },
   "file_extension": ".py",
   "mimetype": "text/x-python",
   "name": "python",
   "nbconvert_exporter": "python",
   "pygments_lexer": "ipython3",
   "version": "3.9.18"
  }
 },
 "nbformat": 4,
 "nbformat_minor": 5
}
