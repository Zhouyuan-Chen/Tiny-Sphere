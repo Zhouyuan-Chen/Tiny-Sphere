{
 "cells": [
  {
   "cell_type": "code",
   "execution_count": 19,
   "id": "initial_id",
   "metadata": {
    "ExecuteTime": {
     "end_time": "2024-07-29T20:12:18.771644100Z",
     "start_time": "2024-07-29T20:12:18.753639100Z"
    }
   },
   "outputs": [],
   "source": [
    "import meshplot\n",
    "import scipy as sp\n",
    "import numpy as np\n",
    "import igl\n",
    "import meshplot as m\n",
    "import gpytoolbox\n",
    "import trimesh\n",
    "import scipy\n",
    "import rtree\n",
    "import tqdm as tqdm"
   ]
  },
  {
   "cell_type": "markdown",
   "id": "b653ee60",
   "metadata": {},
   "source": [
    "# Read SDF file\n",
    "I generate this file from the Geometry Processing course's code. I can't release this code as the course policy, but you can have a look at the skeleton if you want: https://github.com/alecjacobson/geometry-processing-mesh-reconstruction"
   ]
  },
  {
   "cell_type": "code",
   "execution_count": 20,
   "id": "d0fcef8785eacb7f",
   "metadata": {
    "ExecuteTime": {
     "end_time": "2024-07-29T20:12:19.149399700Z",
     "start_time": "2024-07-29T20:12:19.127118200Z"
    },
    "collapsed": false
   },
   "outputs": [
    {
     "name": "stdout",
     "output_type": "stream",
     "text": [
      "Dimensions: 42, 62, 56\n",
      "Positions (first 5 entries):\n",
      "Position 0: [-0.452293 -0.673913 -0.607253]\n",
      "Position 1: [-0.430554 -0.673913 -0.607253]\n",
      "Position 2: [-0.408815 -0.673913 -0.607253]\n",
      "Position 3: [-0.387076 -0.673913 -0.607253]\n",
      "Position 4: [-0.365337 -0.673913 -0.607253]\n",
      "S values (first 5 entries):\n",
      "S[0] = 0.0252924\n",
      "S[1] = 0.0252922\n",
      "S[2] = 0.0252918\n",
      "S[3] = 0.0252912\n",
      "S[4] = 0.0252905\n"
     ]
    },
    {
     "data": {
      "application/vnd.jupyter.widget-view+json": {
       "model_id": "236f4977fa014fbabcebae391c3bd1a6",
       "version_major": 2,
       "version_minor": 0
      },
      "text/plain": [
       "Renderer(camera=PerspectiveCamera(children=(DirectionalLight(color='white', intensity=0.6, position=(-0.006641…"
      ]
     },
     "metadata": {},
     "output_type": "display_data"
    },
    {
     "data": {
      "text/plain": [
       "<meshplot.Viewer.Viewer at 0x1f13fc95400>"
      ]
     },
     "execution_count": 20,
     "metadata": {},
     "output_type": "execute_result"
    }
   ],
   "source": [
    "\n",
    "def read_matrix_from_file(filename):\n",
    "    with open(filename, 'r') as file:\n",
    "        line = file.readline().strip()\n",
    "        x, y, z = map(int, line.split())\n",
    "\n",
    "        total_elements = x * y * z\n",
    "\n",
    "        positions = np.zeros((total_elements, 3)) \n",
    "        s = np.zeros(total_elements)              \n",
    "\n",
    "        for i in range(total_elements):\n",
    "            positions[i] = list(map(float, file.readline().strip().split()))\n",
    "\n",
    "        for i in range(total_elements):\n",
    "            s[i] = float(file.readline().strip())\n",
    "\n",
    "    return x, y, z, positions, s\n",
    "\n",
    "filename = '../data/SDF_file_elephant_high.txt'\n",
    "\n",
    "x, y, z, positions, s = read_matrix_from_file(filename)\n",
    "\n",
    "print(f\"Dimensions: {x}, {y}, {z}\")\n",
    "\n",
    "print(\"Positions (first 5 entries):\")\n",
    "for i in range(min(5, len(positions))):\n",
    "    print(f\"Position {i}: {positions[i]}\")\n",
    "\n",
    "print(\"S values (first 5 entries):\")\n",
    "for i in range(min(5, len(s))):\n",
    "    print(f\"S[{i}] = {s[i]}\")\n",
    "\n",
    "color = s \n",
    "\n",
    "meshplot.plot(positions, c = color, shading={\"point_size\": 0.1, \"colormap\": \"tab10\"})"
   ]
  },
  {
   "cell_type": "code",
   "execution_count": 21,
   "id": "bc362f81",
   "metadata": {},
   "outputs": [
    {
     "data": {
      "application/vnd.jupyter.widget-view+json": {
       "model_id": "641136796193427caec1a9ad83620fb3",
       "version_major": 2,
       "version_minor": 0
      },
      "text/plain": [
       "Renderer(camera=PerspectiveCamera(children=(DirectionalLight(color='white', intensity=0.6, position=(0.0107890…"
      ]
     },
     "metadata": {},
     "output_type": "display_data"
    }
   ],
   "source": [
    "V , F =igl.marching_cubes(s,positions,x,y,z)\n",
    "meshplot.plot(V,F, shading={\"point_size\": 0.1, \"colormap\": \"tab10\"})\n",
    "\n",
    "tmpmesh = trimesh.Trimesh(V,F)\n",
    "query = trimesh.proximity.ProximityQuery(tmpmesh)\n",
    "closest_points, distances, face_indices = query.on_surface(positions)\n",
    "for i in range(len(distances)):\n",
    "    if s[i]<0:\n",
    "        distances[i] = distances[i] * -1\n",
    "s = distances"
   ]
  },
  {
   "cell_type": "code",
   "execution_count": 22,
   "id": "1a0f52f0",
   "metadata": {},
   "outputs": [
    {
     "data": {
      "application/vnd.jupyter.widget-view+json": {
       "model_id": "8862d5045c9b477ea8919dce0e39ce4f",
       "version_major": 2,
       "version_minor": 0
      },
      "text/plain": [
       "Renderer(camera=PerspectiveCamera(children=(DirectionalLight(color='white', intensity=0.6, position=(0.0042285…"
      ]
     },
     "metadata": {},
     "output_type": "display_data"
    },
    {
     "data": {
      "text/plain": [
       "<meshplot.Viewer.Viewer at 0x1f1519abbb0>"
      ]
     },
     "execution_count": 22,
     "metadata": {},
     "output_type": "execute_result"
    }
   ],
   "source": [
    "idx = s < 0\n",
    "meshplot.plot(positions[idx], c = color[idx], shading={\"point_size\": 0.1, \"colormap\": \"tab10\"})"
   ]
  },
  {
   "cell_type": "code",
   "execution_count": 23,
   "id": "083ed8b0",
   "metadata": {},
   "outputs": [
    {
     "data": {
      "text/plain": [
       "array([-0.452293, -0.673913, -0.607253])"
      ]
     },
     "execution_count": 23,
     "metadata": {},
     "output_type": "execute_result"
    }
   ],
   "source": [
    "np.min(positions, axis=0)"
   ]
  },
  {
   "cell_type": "code",
   "execution_count": 24,
   "id": "f437d99b",
   "metadata": {},
   "outputs": [
    {
     "data": {
      "text/plain": [
       "array([0.439011, 0.652174, 0.588399])"
      ]
     },
     "execution_count": 24,
     "metadata": {},
     "output_type": "execute_result"
    }
   ],
   "source": [
    "np.max(positions, axis=0)"
   ]
  },
  {
   "cell_type": "code",
   "execution_count": 25,
   "id": "47d73c44",
   "metadata": {},
   "outputs": [
    {
     "name": "stdout",
     "output_type": "stream",
     "text": [
      "[-0.006641  -0.0108695 -0.009427 ]\n",
      "[0.4010868  0.59673915 0.5380434 ]\n"
     ]
    }
   ],
   "source": [
    "transform = np.min(positions, axis=0) * 0.5 + np.max(positions, axis=0) * 0.5 \n",
    "extent = np.max(positions, axis=0) * 0.5 - np.min(positions, axis=0) * 0.5  \n",
    "extent = extent * 0.9\n",
    "print(transform)\n",
    "print(extent)"
   ]
  },
  {
   "cell_type": "code",
   "execution_count": 26,
   "id": "c151a9b89b493e47",
   "metadata": {
    "ExecuteTime": {
     "end_time": "2024-07-29T19:31:37.249364900Z",
     "start_time": "2024-07-29T19:31:37.092528100Z"
    },
    "collapsed": false
   },
   "outputs": [
    {
     "name": "stdout",
     "output_type": "stream",
     "text": [
      "[0.1939024  0.28750008 0.2595947 ]\n"
     ]
    }
   ],
   "source": [
    "cube = trimesh.creation.box(extents=extent, transform=trimesh.transformations.translation_matrix(transform))\n",
    "\n",
    "vertices = cube.vertices\n",
    "faces = cube.faces\n",
    "\n",
    "faces\n",
    "print(np.max(vertices,axis = 0))"
   ]
  },
  {
   "cell_type": "code",
   "execution_count": 28,
   "id": "d7b61cce",
   "metadata": {},
   "outputs": [],
   "source": [
    "def barycentric_coords(point, v0, v1, v2, epsilon=1e-10):\n",
    "    vec0 = v1 - v0\n",
    "    vec1 = v2 - v0\n",
    "    vec2 = point - v0\n",
    "\n",
    "    d00 = np.dot(vec0, vec0)\n",
    "    d01 = np.dot(vec0, vec1)\n",
    "    d11 = np.dot(vec1, vec1)\n",
    "    d20 = np.dot(vec2, vec0)\n",
    "    d21 = np.dot(vec2, vec1)\n",
    "\n",
    "    denom = d00 * d11 - d01 * d01\n",
    "\n",
    "    if abs(denom) < epsilon:\n",
    "        denom = 0.001\n",
    "\n",
    "    v = (d11 * d20 - d01 * d21) / denom\n",
    "    w = (d00 * d21 - d01 * d20) / denom\n",
    "    u = 1.0 - v - w\n",
    "\n",
    "    return u, v, w\n",
    "\n",
    "def is_inside(point, v0, v1, v2):\n",
    "    vec0 = v1 - v0\n",
    "    vec1 = v2 - v0\n",
    "    vec2 = point - v0\n",
    "\n",
    "    return np.dot(np.cross(vec0,vec1), vec2) < 0"
   ]
  },
  {
   "cell_type": "code",
   "execution_count": 32,
   "id": "fc209fb25b3b8d05",
   "metadata": {
    "collapsed": false
   },
   "outputs": [],
   "source": [
    "# V current position\n",
    "# F faces list\n",
    "# SV signed position\n",
    "# S signed scalar\n",
    "# local samplings\n",
    "# def optimize(V,F,SV,S):\n",
    "\n",
    "def optimization(V, F, S, SV, tau=-1, local_h=-1):\n",
    "\n",
    "    mesh = trimesh.Trimesh(V,F)\n",
    "    query = trimesh.proximity.ProximityQuery(mesh)\n",
    "    closest_points, distances, face_indices = query.on_surface(SV)\n",
    "\n",
    "    # m = len(S)\n",
    "    # n = len(V)\n",
    "    # A = scipy.sparse.lil_matrix((m*3,n*3))\n",
    "    # T = np.zeros(m*3)\n",
    "\n",
    "    Arows = []\n",
    "    Acols = []\n",
    "    Avals = []\n",
    "    T = []\n",
    "\n",
    "    local_n = 0\n",
    "    for i in range(len(S)):\n",
    "        if local_h > 0 and distances[i] > local_h:\n",
    "            continue\n",
    "        face_idx = face_indices[i]\n",
    "        vid0 = F[face_idx,0]\n",
    "        vid1 = F[face_idx,1]\n",
    "        vid2 = F[face_idx,2]\n",
    "        v0 = V[vid0]\n",
    "        v1 = V[vid1]\n",
    "        v2 = V[vid2]\n",
    "        projection = closest_points[i]\n",
    "        u, v, w = barycentric_coords(projection, v0, v1, v2)\n",
    "\n",
    "        Arows.append(local_n*3)\n",
    "        Acols.append(vid0*3)\n",
    "        Avals.append(u)\n",
    "        Arows.append(local_n*3)\n",
    "        Acols.append(vid1*3)\n",
    "        Avals.append(v)\n",
    "        Arows.append(local_n*3)\n",
    "        Acols.append(vid2*3)\n",
    "        Avals.append(w)\n",
    "\n",
    "        Arows.append(local_n*3+1)\n",
    "        Acols.append(vid0*3+1)\n",
    "        Avals.append(u)\n",
    "        Arows.append(local_n*3+1)\n",
    "        Acols.append(vid1*3+1)\n",
    "        Avals.append(v)\n",
    "        Arows.append(local_n*3+1)\n",
    "        Acols.append(vid2*3+1)\n",
    "        Avals.append(w)\n",
    "\n",
    "        Arows.append(local_n*3+2)\n",
    "        Acols.append(vid0*3+2)\n",
    "        Avals.append(u)\n",
    "        Arows.append(local_n*3+2)\n",
    "        Acols.append(vid1*3+2)\n",
    "        Avals.append(v)\n",
    "        Arows.append(local_n*3+2)\n",
    "        Acols.append(vid2*3+2)\n",
    "        Avals.append(w)\n",
    "\n",
    "        sigma = -1\n",
    "        if (is_inside(SV[i],v0,v1,v2) and S[i]<0) or (not is_inside(SV[i],v0,v1,v2) and S[i] > 0):\n",
    "            sigma = 1\n",
    "\n",
    "        tmp_v = projection - SV[i]\n",
    "        norm = np.linalg.norm(tmp_v)\n",
    "        dir = tmp_v / norm\n",
    "        ti = SV[i] + sigma*np.abs(S[i])*dir\n",
    "        # print(np.linalg.norm(ti))\n",
    "\n",
    "        T.append(ti[0])\n",
    "        T.append(ti[1])\n",
    "        T.append(ti[2])\n",
    "        # T[local_n*3] = ti[0]\n",
    "        # T[local_n*3+1] = ti[1]\n",
    "        # T[local_n*3+2] = ti[2]\n",
    "\n",
    "        local_n += 1\n",
    "\n",
    "    m = local_n\n",
    "    n = len(V)\n",
    "    A = scipy.sparse.lil_matrix((m*3,n*3))\n",
    "    T = np.array(T)\n",
    "            \n",
    "    for row, col, value in zip(Arows, Acols, Avals):\n",
    "        A[row, col] = value\n",
    "\n",
    "    I = scipy.sparse.identity(n*3, format='csr')\n",
    "\n",
    "\n",
    "    V_vec = V.reshape(n*3, 1)\n",
    "    T = T.reshape(m*3,1)\n",
    "    # energy_ori = 0.5*np.linalg.norm(A@V_vec-T,ord=2)\n",
    "\n",
    "    A_T_A = A.T @ A\n",
    "    A_T_T = A.T @ T\n",
    "    I_dense = I.toarray()\n",
    "\n",
    "    # rho = 1/float(len(S))\n",
    "    # P = -rho*A.T(A)\n",
    "    # tau = 0.001\n",
    "\n",
    "    if tau == -1:\n",
    "        rho = 1 /float(len(S))\n",
    "        # print(A.shape)\n",
    "        # print(T.shape)\n",
    "        P = -rho*A.T@(A@V_vec-T)\n",
    "        AP = A@P\n",
    "        # print((A@V_vec-T).shape)\n",
    "        # print(AP.shape)\n",
    "        tau = -(rho*np.dot((A@V_vec - T).T,AP) + 0.01*np.linalg.norm(P,ord=2)) / (rho * np.linalg.norm(AP , ord=2))\n",
    "        tau = tau[0][0]\n",
    "        # print(tau)\n",
    "        tau = np.max([tau, 1e-6])\n",
    "        tau = np.min([tau, 50])\n",
    "\n",
    "\n",
    "    print(f\"tau picked: {tau}\")\n",
    "\n",
    "    # tau = 0.01\n",
    "\n",
    "    MA = I_dense + tau * A_T_A\n",
    "    MB = V_vec.flatten() + tau * A_T_T.flatten()\n",
    "\n",
    "    Vnew = np.linalg.solve(MA, MB)\n",
    "    Vnew = Vnew.reshape(n*3,1)\n",
    "    # energy = 1*0.5/tau*np.linalg.norm(Vnew - V_vec, ord = 2) + 0.5 *np.linalg.norm((A@Vnew - T), ord=2)\n",
    "    \n",
    "    # itr = 0\n",
    "    # while itr < 5 and energy > energy_ori:\n",
    "    #     tau = tau * 0.1\n",
    "    #     MA = I_dense + tau * A_T_A\n",
    "    #     MB = V_vec.flatten() + tau * A_T_T.flatten()\n",
    "    #     Vtmp = np.linalg.solve(MA, MB)\n",
    "    #     Vtmp = Vtmp.reshape(n,3)\n",
    "    #     energy = 1*0.5/tau*(Vtmp - V_vec).T@(Vtmp - V_vec) + 0.5 *(A@V_vec - T).T*(A@V_vec - T)\n",
    "    #     if energy < energy_ori:\n",
    "    #         Vnew = Vtmp\n",
    "\n",
    "\n",
    "    Vnew = Vnew.reshape(n,3)\n",
    "    return Vnew\n",
    "\n",
    "\n",
    "def reach_for_sphere(V,F,S,SV,iteration_times,h,small_iteration = 10, tau = -1, local_h = -1):\n",
    "    for i in range(iteration_times):\n",
    "        # mesh = trimesh.Trimesh(vertices=V,faces=F)\n",
    "        # trimesh.smoothing.filter_laplacian(mesh, iterations=2)\n",
    "        # V = mesh.vertices\n",
    "        # F = mesh.faces\n",
    "        h = h * 0.5\n",
    "        print(f'current mesh size V:{V.shape[0]} F:{F.shape[0]}')\n",
    "        loss = 1 \n",
    "        itr = 0\n",
    "        while loss > 0.00001 and itr < small_iteration:  \n",
    "            V, F = gpytoolbox.remesh_botsch(V, F, 20, h, True)\n",
    "            itr += 1\n",
    "            V_old = V\n",
    "            V = optimization(V_old,F,S,SV,tau,local_h)\n",
    "            loss = np.linalg.norm((V_old - V), ord=2)\n",
    "            # V, F = gpytoolbox.remesh_botsch(V, F, 20, h, True)\n",
    "            print(f'iteration {i+1}, decsent times {itr}, current loss: {loss}')\n",
    "        meshplot.plot(V, F, shading={\"wireframe\": True})\n",
    "        igl.write_obj(f'{i}.obj',V,F)\n",
    "        \n",
    "    return V, F"
   ]
  },
  {
   "cell_type": "code",
   "execution_count": 35,
   "id": "36ad4493e0087b18",
   "metadata": {
    "collapsed": false
   },
   "outputs": [],
   "source": [
    "# V = cu\n",
    "# F = cg\n",
    "# S = s\n",
    "# V = optimization(V,F,S,positions)\n",
    "# V = optimization(V,F,S,positions)\n",
    "cu, cg = gpytoolbox.remesh_botsch(vertices, faces, 20, 0.1, True)\n",
    "VOld = V\n",
    "FOld = F\n"
   ]
  },
  {
   "cell_type": "code",
   "execution_count": 37,
   "id": "2747f3de",
   "metadata": {},
   "outputs": [
    {
     "name": "stdout",
     "output_type": "stream",
     "text": [
      "current mesh size V:149 F:294\n",
      "tau picked: 0.01\n",
      "iteration 1, decsent times 1, current loss: 0.8443945948645751\n",
      "tau picked: 0.01\n",
      "iteration 1, decsent times 2, current loss: 0.43542623694117377\n",
      "tau picked: 0.01\n",
      "iteration 1, decsent times 3, current loss: 0.31013739254356104\n",
      "tau picked: 0.01\n",
      "iteration 1, decsent times 4, current loss: 0.21798040276390496\n",
      "tau picked: 0.01\n",
      "iteration 1, decsent times 5, current loss: 0.1761386986804847\n",
      "tau picked: 0.01\n",
      "iteration 1, decsent times 6, current loss: 0.12928965145834606\n",
      "tau picked: 0.01\n",
      "iteration 1, decsent times 7, current loss: 0.10707872726061911\n",
      "tau picked: 0.01\n",
      "iteration 1, decsent times 8, current loss: 0.08772923488650267\n",
      "tau picked: 0.01\n",
      "iteration 1, decsent times 9, current loss: 0.08153632132831196\n",
      "tau picked: 0.01\n",
      "iteration 1, decsent times 10, current loss: 0.06815929528267509\n"
     ]
    },
    {
     "data": {
      "application/vnd.jupyter.widget-view+json": {
       "model_id": "56f47ee5ddc64550af0c1498e0ff019f",
       "version_major": 2,
       "version_minor": 0
      },
      "text/plain": [
       "Renderer(camera=PerspectiveCamera(children=(DirectionalLight(color='white', intensity=0.6, position=(0.0110295…"
      ]
     },
     "metadata": {},
     "output_type": "display_data"
    },
    {
     "name": "stdout",
     "output_type": "stream",
     "text": [
      "current mesh size V:856 F:1708\n",
      "tau picked: 0.01\n",
      "iteration 2, decsent times 1, current loss: 0.05509945167029123\n",
      "tau picked: 0.01\n",
      "iteration 2, decsent times 2, current loss: 0.0425686088551329\n",
      "tau picked: 0.01\n",
      "iteration 2, decsent times 3, current loss: 0.03911676167772746\n",
      "tau picked: 0.01\n",
      "iteration 2, decsent times 4, current loss: 0.02923338417720112\n",
      "tau picked: 0.01\n",
      "iteration 2, decsent times 5, current loss: 0.026414688553354645\n",
      "tau picked: 0.01\n",
      "iteration 2, decsent times 6, current loss: 0.02478028260420863\n",
      "tau picked: 0.01\n",
      "iteration 2, decsent times 7, current loss: 0.02270318768484096\n",
      "tau picked: 0.01\n",
      "iteration 2, decsent times 8, current loss: 0.022575495419947033\n",
      "tau picked: 0.01\n",
      "iteration 2, decsent times 9, current loss: 0.02069864107595857\n",
      "tau picked: 0.01\n",
      "iteration 2, decsent times 10, current loss: 0.01996130821677107\n"
     ]
    },
    {
     "data": {
      "application/vnd.jupyter.widget-view+json": {
       "model_id": "2f91795bea874b19b92efb504f6ad7cf",
       "version_major": 2,
       "version_minor": 0
      },
      "text/plain": [
       "Renderer(camera=PerspectiveCamera(children=(DirectionalLight(color='white', intensity=0.6, position=(0.0103570…"
      ]
     },
     "metadata": {},
     "output_type": "display_data"
    },
    {
     "name": "stdout",
     "output_type": "stream",
     "text": [
      "current mesh size V:3439 F:6874\n"
     ]
    },
    {
     "ename": "KeyboardInterrupt",
     "evalue": "",
     "output_type": "error",
     "traceback": [
      "\u001b[1;31m---------------------------------------------------------------------------\u001b[0m",
      "\u001b[1;31mKeyboardInterrupt\u001b[0m                         Traceback (most recent call last)",
      "Cell \u001b[1;32mIn[37], line 2\u001b[0m\n\u001b[0;32m      1\u001b[0m igl\u001b[38;5;241m.\u001b[39mwrite_obj(\u001b[38;5;124m\"\u001b[39m\u001b[38;5;124m./input.obj\u001b[39m\u001b[38;5;124m\"\u001b[39m,VOld,FOld)\n\u001b[1;32m----> 2\u001b[0m V, F \u001b[38;5;241m=\u001b[39m \u001b[43mreach_for_sphere\u001b[49m\u001b[43m(\u001b[49m\u001b[43mcu\u001b[49m\u001b[43m,\u001b[49m\u001b[43m \u001b[49m\u001b[43mcg\u001b[49m\u001b[43m,\u001b[49m\u001b[43m \u001b[49m\u001b[43ms\u001b[49m\u001b[43m,\u001b[49m\u001b[43m \u001b[49m\u001b[43mpositions\u001b[49m\u001b[43m,\u001b[49m\u001b[43m \u001b[49m\u001b[38;5;241;43m4\u001b[39;49m\u001b[43m,\u001b[49m\u001b[43m \u001b[49m\u001b[38;5;241;43m0.1\u001b[39;49m\u001b[43m,\u001b[49m\u001b[38;5;241;43m10\u001b[39;49m\u001b[43m,\u001b[49m\u001b[43mtau\u001b[49m\u001b[38;5;241;43m=\u001b[39;49m\u001b[38;5;241;43m0.01\u001b[39;49m\u001b[43m)\u001b[49m\n\u001b[0;32m      3\u001b[0m meshplot\u001b[38;5;241m.\u001b[39mplot(V, F, shading\u001b[38;5;241m=\u001b[39m{\u001b[38;5;124m\"\u001b[39m\u001b[38;5;124mwireframe\u001b[39m\u001b[38;5;124m\"\u001b[39m: \u001b[38;5;28;01mTrue\u001b[39;00m})\n\u001b[0;32m      4\u001b[0m igl\u001b[38;5;241m.\u001b[39mwrite_obj(\u001b[38;5;124m\"\u001b[39m\u001b[38;5;124m./output.obj\u001b[39m\u001b[38;5;124m\"\u001b[39m,V,F)\n",
      "Cell \u001b[1;32mIn[32], line 166\u001b[0m, in \u001b[0;36mreach_for_sphere\u001b[1;34m(V, F, S, SV, iteration_times, h, small_iteration, tau, local_h)\u001b[0m\n\u001b[0;32m    164\u001b[0m itr \u001b[38;5;241m+\u001b[39m\u001b[38;5;241m=\u001b[39m \u001b[38;5;241m1\u001b[39m\n\u001b[0;32m    165\u001b[0m V_old \u001b[38;5;241m=\u001b[39m V\n\u001b[1;32m--> 166\u001b[0m V \u001b[38;5;241m=\u001b[39m \u001b[43moptimization\u001b[49m\u001b[43m(\u001b[49m\u001b[43mV_old\u001b[49m\u001b[43m,\u001b[49m\u001b[43mF\u001b[49m\u001b[43m,\u001b[49m\u001b[43mS\u001b[49m\u001b[43m,\u001b[49m\u001b[43mSV\u001b[49m\u001b[43m,\u001b[49m\u001b[43mtau\u001b[49m\u001b[43m,\u001b[49m\u001b[43mlocal_h\u001b[49m\u001b[43m)\u001b[49m\n\u001b[0;32m    167\u001b[0m loss \u001b[38;5;241m=\u001b[39m np\u001b[38;5;241m.\u001b[39mlinalg\u001b[38;5;241m.\u001b[39mnorm((V_old \u001b[38;5;241m-\u001b[39m V), \u001b[38;5;28mord\u001b[39m\u001b[38;5;241m=\u001b[39m\u001b[38;5;241m2\u001b[39m)\n\u001b[0;32m    168\u001b[0m \u001b[38;5;66;03m# V, F = gpytoolbox.remesh_botsch(V, F, 20, h, True)\u001b[39;00m\n",
      "Cell \u001b[1;32mIn[32], line 12\u001b[0m, in \u001b[0;36moptimization\u001b[1;34m(V, F, S, SV, tau, local_h)\u001b[0m\n\u001b[0;32m     10\u001b[0m mesh \u001b[38;5;241m=\u001b[39m trimesh\u001b[38;5;241m.\u001b[39mTrimesh(V,F)\n\u001b[0;32m     11\u001b[0m query \u001b[38;5;241m=\u001b[39m trimesh\u001b[38;5;241m.\u001b[39mproximity\u001b[38;5;241m.\u001b[39mProximityQuery(mesh)\n\u001b[1;32m---> 12\u001b[0m closest_points, distances, face_indices \u001b[38;5;241m=\u001b[39m \u001b[43mquery\u001b[49m\u001b[38;5;241;43m.\u001b[39;49m\u001b[43mon_surface\u001b[49m\u001b[43m(\u001b[49m\u001b[43mSV\u001b[49m\u001b[43m)\u001b[49m\n\u001b[0;32m     14\u001b[0m \u001b[38;5;66;03m# m = len(S)\u001b[39;00m\n\u001b[0;32m     15\u001b[0m \u001b[38;5;66;03m# n = len(V)\u001b[39;00m\n\u001b[0;32m     16\u001b[0m \u001b[38;5;66;03m# A = scipy.sparse.lil_matrix((m*3,n*3))\u001b[39;00m\n\u001b[0;32m     17\u001b[0m \u001b[38;5;66;03m# T = np.zeros(m*3)\u001b[39;00m\n\u001b[0;32m     19\u001b[0m Arows \u001b[38;5;241m=\u001b[39m []\n",
      "File \u001b[1;32md:\\Anaconda3\\anaconda3\\envs\\gp\\lib\\site-packages\\trimesh\\constants.py:151\u001b[0m, in \u001b[0;36mlog_time.<locals>.timed\u001b[1;34m(*args, **kwargs)\u001b[0m\n\u001b[0;32m    149\u001b[0m \u001b[38;5;28;01mdef\u001b[39;00m \u001b[38;5;21mtimed\u001b[39m(\u001b[38;5;241m*\u001b[39margs, \u001b[38;5;241m*\u001b[39m\u001b[38;5;241m*\u001b[39mkwargs):\n\u001b[0;32m    150\u001b[0m     tic \u001b[38;5;241m=\u001b[39m now()\n\u001b[1;32m--> 151\u001b[0m     result \u001b[38;5;241m=\u001b[39m method(\u001b[38;5;241m*\u001b[39margs, \u001b[38;5;241m*\u001b[39m\u001b[38;5;241m*\u001b[39mkwargs)\n\u001b[0;32m    152\u001b[0m     log\u001b[38;5;241m.\u001b[39mdebug(\u001b[38;5;124m\"\u001b[39m\u001b[38;5;132;01m%s\u001b[39;00m\u001b[38;5;124m executed in \u001b[39m\u001b[38;5;132;01m%.4f\u001b[39;00m\u001b[38;5;124m seconds.\u001b[39m\u001b[38;5;124m\"\u001b[39m, method\u001b[38;5;241m.\u001b[39m\u001b[38;5;18m__name__\u001b[39m, now() \u001b[38;5;241m-\u001b[39m tic)\n\u001b[0;32m    154\u001b[0m     \u001b[38;5;28;01mreturn\u001b[39;00m result\n",
      "File \u001b[1;32md:\\Anaconda3\\anaconda3\\envs\\gp\\lib\\site-packages\\trimesh\\proximity.py:333\u001b[0m, in \u001b[0;36mProximityQuery.on_surface\u001b[1;34m(self, points)\u001b[0m\n\u001b[0;32m    314\u001b[0m \u001b[38;5;129m@log_time\u001b[39m\n\u001b[0;32m    315\u001b[0m \u001b[38;5;28;01mdef\u001b[39;00m \u001b[38;5;21mon_surface\u001b[39m(\u001b[38;5;28mself\u001b[39m, points):\n\u001b[0;32m    316\u001b[0m \u001b[38;5;250m    \u001b[39m\u001b[38;5;124;03m\"\"\"\u001b[39;00m\n\u001b[0;32m    317\u001b[0m \u001b[38;5;124;03m    Given list of points, for each point find the closest point\u001b[39;00m\n\u001b[0;32m    318\u001b[0m \u001b[38;5;124;03m    on any triangle of the mesh.\u001b[39;00m\n\u001b[1;32m   (...)\u001b[0m\n\u001b[0;32m    331\u001b[0m \u001b[38;5;124;03m      Index of closest triangle for each point.\u001b[39;00m\n\u001b[0;32m    332\u001b[0m \u001b[38;5;124;03m    \"\"\"\u001b[39;00m\n\u001b[1;32m--> 333\u001b[0m     \u001b[38;5;28;01mreturn\u001b[39;00m \u001b[43mclosest_point\u001b[49m\u001b[43m(\u001b[49m\u001b[43mmesh\u001b[49m\u001b[38;5;241;43m=\u001b[39;49m\u001b[38;5;28;43mself\u001b[39;49m\u001b[38;5;241;43m.\u001b[39;49m\u001b[43m_mesh\u001b[49m\u001b[43m,\u001b[49m\u001b[43m \u001b[49m\u001b[43mpoints\u001b[49m\u001b[38;5;241;43m=\u001b[39;49m\u001b[43mpoints\u001b[49m\u001b[43m)\u001b[49m\n",
      "File \u001b[1;32md:\\Anaconda3\\anaconda3\\envs\\gp\\lib\\site-packages\\trimesh\\proximity.py:162\u001b[0m, in \u001b[0;36mclosest_point\u001b[1;34m(mesh, points)\u001b[0m\n\u001b[0;32m    159\u001b[0m query_tri \u001b[38;5;241m=\u001b[39m triangles[all_candidates]\n\u001b[0;32m    161\u001b[0m \u001b[38;5;66;03m# do the computation for closest point\u001b[39;00m\n\u001b[1;32m--> 162\u001b[0m query_close \u001b[38;5;241m=\u001b[39m \u001b[43m_corresponding\u001b[49m\u001b[43m(\u001b[49m\u001b[43mquery_tri\u001b[49m\u001b[43m,\u001b[49m\u001b[43m \u001b[49m\u001b[43mquery_point\u001b[49m\u001b[43m)\u001b[49m\n\u001b[0;32m    163\u001b[0m query_group \u001b[38;5;241m=\u001b[39m np\u001b[38;5;241m.\u001b[39mcumsum(num_candidates)[:\u001b[38;5;241m-\u001b[39m\u001b[38;5;241m1\u001b[39m]\n\u001b[0;32m    165\u001b[0m \u001b[38;5;66;03m# vectors and distances for\u001b[39;00m\n\u001b[0;32m    166\u001b[0m \u001b[38;5;66;03m# closest point to query point\u001b[39;00m\n",
      "File \u001b[1;32md:\\Anaconda3\\anaconda3\\envs\\gp\\lib\\site-packages\\trimesh\\triangles.py:626\u001b[0m, in \u001b[0;36mclosest_point\u001b[1;34m(triangles, points)\u001b[0m\n\u001b[0;32m    624\u001b[0m is_a \u001b[38;5;241m=\u001b[39m np\u001b[38;5;241m.\u001b[39mlogical_and(d1 \u001b[38;5;241m<\u001b[39m tol\u001b[38;5;241m.\u001b[39mzero, d2 \u001b[38;5;241m<\u001b[39m tol\u001b[38;5;241m.\u001b[39mzero)\n\u001b[0;32m    625\u001b[0m \u001b[38;5;28;01mif\u001b[39;00m \u001b[38;5;28many\u001b[39m(is_a):\n\u001b[1;32m--> 626\u001b[0m     result[is_a] \u001b[38;5;241m=\u001b[39m \u001b[43ma\u001b[49m\u001b[43m[\u001b[49m\u001b[43mis_a\u001b[49m\u001b[43m]\u001b[49m\n\u001b[0;32m    627\u001b[0m     remain[is_a] \u001b[38;5;241m=\u001b[39m \u001b[38;5;28;01mFalse\u001b[39;00m\n\u001b[0;32m    629\u001b[0m \u001b[38;5;66;03m# check if P in vertex region outside B\u001b[39;00m\n",
      "\u001b[1;31mKeyboardInterrupt\u001b[0m: "
     ]
    }
   ],
   "source": [
    "igl.write_obj(\"./input.obj\",VOld,FOld)\n",
    "V, F = reach_for_sphere(cu, cg, s, positions, 4, 0.1,10,tau=0.01)\n",
    "meshplot.plot(V, F, shading={\"wireframe\": True})\n",
    "igl.write_obj(\"./output.obj\",V,F)"
   ]
  }
 ],
 "metadata": {
  "kernelspec": {
   "display_name": "Python 3 (ipykernel)",
   "language": "python",
   "name": "python3"
  },
  "language_info": {
   "codemirror_mode": {
    "name": "ipython",
    "version": 3
   },
   "file_extension": ".py",
   "mimetype": "text/x-python",
   "name": "python",
   "nbconvert_exporter": "python",
   "pygments_lexer": "ipython3",
   "version": "3.9.18"
  }
 },
 "nbformat": 4,
 "nbformat_minor": 5
}
