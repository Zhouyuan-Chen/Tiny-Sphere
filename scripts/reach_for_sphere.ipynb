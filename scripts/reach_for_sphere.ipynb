{
 "cells": [
  {
   "cell_type": "code",
   "execution_count": 35,
   "id": "initial_id",
   "metadata": {
    "ExecuteTime": {
     "end_time": "2024-07-29T20:12:18.771644100Z",
     "start_time": "2024-07-29T20:12:18.753639100Z"
    }
   },
   "outputs": [],
   "source": [
    "import meshplot\n",
    "import scipy as sp\n",
    "import numpy as np\n",
    "import igl\n",
    "import meshplot as m\n",
    "import gpytoolbox\n",
    "import trimesh"
   ]
  },
  {
   "cell_type": "code",
   "execution_count": 36,
   "id": "d0fcef8785eacb7f",
   "metadata": {
    "ExecuteTime": {
     "end_time": "2024-07-29T20:12:19.149399700Z",
     "start_time": "2024-07-29T20:12:19.127118200Z"
    },
    "collapsed": false
   },
   "outputs": [
    {
     "name": "stdout",
     "output_type": "stream",
     "text": [
      "Dimensions: 26, 34, 32\n",
      "Positions (first 5 entries):\n",
      "Position 0: [-0.713163 -0.934783 -0.868123]\n",
      "Position 1: [-0.658815 -0.934783 -0.868123]\n",
      "Position 2: [-0.604467 -0.934783 -0.868123]\n",
      "Position 3: [-0.550119 -0.934783 -0.868123]\n",
      "Position 4: [-0.495771 -0.934783 -0.868123]\n",
      "S values (first 5 entries):\n",
      "S[0] = 0.357732\n",
      "S[1] = 0.357728\n",
      "S[2] = 0.357721\n",
      "S[3] = 0.357709\n",
      "S[4] = 0.357695\n"
     ]
    },
    {
     "data": {
      "application/vnd.jupyter.widget-view+json": {
       "model_id": "809bcaea7cf04a62b7a250ed3ba72ccb",
       "version_major": 2,
       "version_minor": 0
      },
      "text/plain": [
       "Renderer(camera=PerspectiveCamera(children=(DirectionalLight(color='white', intensity=0.6, position=(-0.033814…"
      ]
     },
     "metadata": {},
     "output_type": "display_data"
    },
    {
     "data": {
      "text/plain": [
       "<meshplot.Viewer.Viewer at 0x1a1941b4400>"
      ]
     },
     "execution_count": 36,
     "metadata": {},
     "output_type": "execute_result"
    }
   ],
   "source": [
    "\n",
    "def read_matrix_from_file(filename):\n",
    "    with open(filename, 'r') as file:\n",
    "        line = file.readline().strip()\n",
    "        x, y, z = map(int, line.split())\n",
    "\n",
    "        total_elements = x * y * z\n",
    "\n",
    "        positions = np.zeros((total_elements, 3)) \n",
    "        s = np.zeros(total_elements)              \n",
    "\n",
    "        for i in range(total_elements):\n",
    "            positions[i] = list(map(float, file.readline().strip().split()))\n",
    "\n",
    "        for i in range(total_elements):\n",
    "            s[i] = float(file.readline().strip())\n",
    "\n",
    "    return x, y, z, positions, s\n",
    "\n",
    "filename = '../data/SDF_file.txt'\n",
    "x, y, z, positions, s = read_matrix_from_file(filename)\n",
    "\n",
    "print(f\"Dimensions: {x}, {y}, {z}\")\n",
    "\n",
    "print(\"Positions (first 5 entries):\")\n",
    "for i in range(min(5, len(positions))):\n",
    "    print(f\"Position {i}: {positions[i]}\")\n",
    "\n",
    "print(\"S values (first 5 entries):\")\n",
    "for i in range(min(5, len(s))):\n",
    "    print(f\"S[{i}] = {s[i]}\")\n",
    "\n",
    "color = s \n",
    "\n",
    "meshplot.plot(positions, c = color, shading={\"point_size\": 0.1, \"colormap\": \"tab10\"})"
   ]
  },
  {
   "cell_type": "code",
   "execution_count": 37,
   "id": "083ed8b0",
   "metadata": {},
   "outputs": [
    {
     "data": {
      "text/plain": [
       "array([-0.713163, -0.934783, -0.868123])"
      ]
     },
     "execution_count": 37,
     "metadata": {},
     "output_type": "execute_result"
    }
   ],
   "source": [
    "np.min(positions, axis=0)"
   ]
  },
  {
   "cell_type": "code",
   "execution_count": 38,
   "id": "f437d99b",
   "metadata": {},
   "outputs": [
    {
     "data": {
      "text/plain": [
       "array([0.645533, 0.858696, 0.81666 ])"
      ]
     },
     "execution_count": 38,
     "metadata": {},
     "output_type": "execute_result"
    }
   ],
   "source": [
    "np.max(positions, axis=0)"
   ]
  },
  {
   "cell_type": "code",
   "execution_count": 42,
   "id": "c151a9b89b493e47",
   "metadata": {
    "ExecuteTime": {
     "end_time": "2024-07-29T19:31:37.249364900Z",
     "start_time": "2024-07-29T19:31:37.092528100Z"
    },
    "collapsed": false
   },
   "outputs": [
    {
     "data": {
      "text/plain": [
       "TrackedArray([[1, 3, 0],\n",
       "              [4, 1, 0],\n",
       "              [0, 3, 2],\n",
       "              [2, 4, 0],\n",
       "              [1, 7, 3],\n",
       "              [5, 1, 4],\n",
       "              [5, 7, 1],\n",
       "              [3, 7, 2],\n",
       "              [6, 4, 2],\n",
       "              [2, 7, 6],\n",
       "              [6, 5, 4],\n",
       "              [7, 5, 6]], dtype=int64)"
      ]
     },
     "execution_count": 42,
     "metadata": {},
     "output_type": "execute_result"
    }
   ],
   "source": [
    "cube = trimesh.creation.box(extents=[2, 2, 2], transform=trimesh.transformations.translation_matrix([-1, -1, -1]))\n",
    "\n",
    "# 获取顶点和面\n",
    "vertices = cube.vertices\n",
    "faces = cube.faces\n",
    "\n",
    "faces"
   ]
  },
  {
   "cell_type": "code",
   "execution_count": 44,
   "id": "951c756148a5f753",
   "metadata": {
    "ExecuteTime": {
     "end_time": "2024-07-29T19:31:37.269334500Z",
     "start_time": "2024-07-29T19:31:37.253365600Z"
    },
    "collapsed": false
   },
   "outputs": [
    {
     "data": {
      "application/vnd.jupyter.widget-view+json": {
       "model_id": "7e5e8b91d7fc4d35ab05273dce6d36c7",
       "version_major": 2,
       "version_minor": 0
      },
      "text/plain": [
       "Renderer(camera=PerspectiveCamera(children=(DirectionalLight(color='white', intensity=0.6, position=(-1.0, -1.…"
      ]
     },
     "metadata": {},
     "output_type": "display_data"
    },
    {
     "data": {
      "text/plain": [
       "<meshplot.Viewer.Viewer at 0x1a194badb50>"
      ]
     },
     "execution_count": 44,
     "metadata": {},
     "output_type": "execute_result"
    }
   ],
   "source": [
    "u, g = gpytoolbox.remesh_botsch(vertices, faces, 20, 0.1, True)\n",
    "meshplot.plot(u, g)"
   ]
  },
  {
   "cell_type": "code",
   "execution_count": null,
   "id": "f6da2f315197838e",
   "metadata": {
    "collapsed": false
   },
   "outputs": [],
   "source": []
  }
 ],
 "metadata": {
  "kernelspec": {
   "display_name": "Python 3 (ipykernel)",
   "language": "python",
   "name": "python3"
  },
  "language_info": {
   "codemirror_mode": {
    "name": "ipython",
    "version": 3
   },
   "file_extension": ".py",
   "mimetype": "text/x-python",
   "name": "python",
   "nbconvert_exporter": "python",
   "pygments_lexer": "ipython3",
   "version": "3.9.18"
  }
 },
 "nbformat": 4,
 "nbformat_minor": 5
}
